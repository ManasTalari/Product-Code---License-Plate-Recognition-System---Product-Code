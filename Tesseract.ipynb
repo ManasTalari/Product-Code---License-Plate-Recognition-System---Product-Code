{
 "cells": [
  {
   "cell_type": "code",
   "execution_count": 2,
   "id": "9308be75",
   "metadata": {},
   "outputs": [
    {
     "name": "stdout",
     "output_type": "stream",
     "text": [
      "Requirement already satisfied: pytesseract in /Users/prudhviraj/anaconda3/lib/python3.11/site-packages (0.3.10)\r\n",
      "Requirement already satisfied: packaging>=21.3 in /Users/prudhviraj/anaconda3/lib/python3.11/site-packages (from pytesseract) (23.1)\r\n",
      "Requirement already satisfied: Pillow>=8.0.0 in /Users/prudhviraj/anaconda3/lib/python3.11/site-packages (from pytesseract) (9.4.0)\r\n"
     ]
    }
   ],
   "source": [
    "!pip install pytesseract"
   ]
  },
  {
   "cell_type": "code",
   "execution_count": 3,
   "id": "26c760f3",
   "metadata": {},
   "outputs": [],
   "source": [
    "import cv2\n",
    "import pytesseract"
   ]
  },
  {
   "cell_type": "code",
   "execution_count": 4,
   "id": "686d312c",
   "metadata": {},
   "outputs": [],
   "source": [
    "image_path = \"/Users/prudhviraj/Downloads/WhatsApp Image 2024-04-06 at 21.52.16.jpeg\"\n",
    "image = cv2.imread(image_path)"
   ]
  },
  {
   "cell_type": "code",
   "execution_count": 5,
   "id": "2cec92cc",
   "metadata": {},
   "outputs": [],
   "source": [
    "gray_image = cv2.cvtColor(image, cv2.COLOR_BGR2GRAY)"
   ]
  },
  {
   "cell_type": "code",
   "execution_count": 6,
   "id": "55cac6f1",
   "metadata": {},
   "outputs": [],
   "source": [
    "# Apply adaptive thresholding.\n",
    "threshold_image = cv2.adaptiveThreshold(gray_image, 255, cv2.ADAPTIVE_THRESH_GAUSSIAN_C, cv2.THRESH_BINARY, 11, 3)"
   ]
  },
  {
   "cell_type": "code",
   "execution_count": 7,
   "id": "c203cd2b",
   "metadata": {},
   "outputs": [],
   "source": [
    "# Apply Gaussian blur for noise reduction.\n",
    "blurred_image = cv2.GaussianBlur(gray_image, (5, 5), 0)\n"
   ]
  },
  {
   "cell_type": "code",
   "execution_count": 8,
   "id": "c73b32b5",
   "metadata": {},
   "outputs": [],
   "source": [
    "# Specify language and dictionary for Tesseract.\n",
    "extracted_text = pytesseract.image_to_string(threshold_image, lang='eng', config='--psm 6 --oem 3')\n"
   ]
  },
  {
   "cell_type": "code",
   "execution_count": 9,
   "id": "0d5c82a5",
   "metadata": {},
   "outputs": [],
   "source": [
    "pytesseract.pytesseract.tesseract_cmd = '/opt/homebrew/bin/tesseract'"
   ]
  },
  {
   "cell_type": "code",
   "execution_count": 10,
   "id": "e93d57b3",
   "metadata": {},
   "outputs": [
    {
     "name": "stdout",
     "output_type": "stream",
     "text": [
      "<class 'numpy.ndarray'>\n"
     ]
    }
   ],
   "source": [
    "print(type(image))"
   ]
  },
  {
   "cell_type": "code",
   "execution_count": 11,
   "id": "af96ae4b",
   "metadata": {},
   "outputs": [],
   "source": [
    "extracted_text = pytesseract.image_to_string(image)"
   ]
  },
  {
   "cell_type": "code",
   "execution_count": 20,
   "id": "6fb9ce23",
   "metadata": {},
   "outputs": [
    {
     "name": "stdout",
     "output_type": "stream",
     "text": [
      "Extracted Text:\n",
      "DL 7CO 1933}\n",
      "\n"
     ]
    }
   ],
   "source": [
    "print(\"Extracted Text:\")\n",
    "print(extracted_text)"
   ]
  },
  {
   "cell_type": "code",
   "execution_count": 18,
   "id": "ae642896",
   "metadata": {},
   "outputs": [],
   "source": [
    "new_text=''\n",
    "alpha=\"ABCDEFGHIJKLMNOPQRSTUVWXYZ\"\n",
    "num=\"0123456789\"\n",
    "for i in extracted_text:\n",
    "    if i in alpha or i in num:\n",
    "        new_text+=i"
   ]
  },
  {
   "cell_type": "code",
   "execution_count": 21,
   "id": "708489e1",
   "metadata": {},
   "outputs": [
    {
     "name": "stdout",
     "output_type": "stream",
     "text": [
      "DL7CO1933\n"
     ]
    }
   ],
   "source": [
    "print(new_text)"
   ]
  },
  {
   "cell_type": "code",
   "execution_count": null,
   "id": "6073104e",
   "metadata": {},
   "outputs": [],
   "source": []
  }
 ],
 "metadata": {
  "kernelspec": {
   "display_name": "Python 3 (ipykernel)",
   "language": "python",
   "name": "python3"
  },
  "language_info": {
   "codemirror_mode": {
    "name": "ipython",
    "version": 3
   },
   "file_extension": ".py",
   "mimetype": "text/x-python",
   "name": "python",
   "nbconvert_exporter": "python",
   "pygments_lexer": "ipython3",
   "version": "3.11.5"
  }
 },
 "nbformat": 4,
 "nbformat_minor": 5
}
